{
 "cells": [
  {
   "cell_type": "code",
   "execution_count": null,
   "metadata": {},
   "outputs": [],
   "source": [
    "import pandas as pd\n",
    "import os"
   ]
  },
  {
   "cell_type": "markdown",
   "metadata": {},
   "source": [
    "### file loading"
   ]
  },
  {
   "cell_type": "code",
   "execution_count": null,
   "metadata": {},
   "outputs": [],
   "source": [
    "path = '../data/rhoda_kellogg'\n",
    "\n",
    "files = []\n",
    "# r=root, d=directories, f = files\n",
    "for r, d, f in os.walk(path):\n",
    "    for file in f:\n",
    "        if '.jpg' in file:\n",
    "            files.append(os.path.join(r, file))\n",
    "\n",
    "# for f in files:\n",
    "#     print(os.path.basename(f))"
   ]
  },
  {
   "cell_type": "code",
   "execution_count": null,
   "metadata": {},
   "outputs": [],
   "source": [
    "rk = pd.DataFrame(files, columns=['filepath']) "
   ]
  },
  {
   "cell_type": "code",
   "execution_count": null,
   "metadata": {},
   "outputs": [],
   "source": [
    "rk['imagenum'] = rk['filepath'].apply(lambda x: os.path.splitext(x.split('/')[-1])[0])"
   ]
  },
  {
   "cell_type": "code",
   "execution_count": null,
   "metadata": {},
   "outputs": [],
   "source": [
    "rk['imagenum'] = rk['imagenum'].apply(lambda s: int(s.lstrip(\"0\")))"
   ]
  },
  {
   "cell_type": "code",
   "execution_count": null,
   "metadata": {},
   "outputs": [],
   "source": [
    "rk['card'] = rk['filepath'].apply(lambda x: os.path.splitext(x.split('/')[-2])[0])"
   ]
  },
  {
   "cell_type": "code",
   "execution_count": null,
   "metadata": {},
   "outputs": [],
   "source": [
    "rk['cardnum'] = rk['card'].apply(lambda s: int(s.split(\" \")[1]))"
   ]
  },
  {
   "cell_type": "code",
   "execution_count": null,
   "metadata": {},
   "outputs": [],
   "source": [
    "rk.head()"
   ]
  },
  {
   "cell_type": "code",
   "execution_count": null,
   "metadata": {},
   "outputs": [],
   "source": [
    "rk['cardnum'].unique()"
   ]
  },
  {
   "cell_type": "code",
   "execution_count": null,
   "metadata": {},
   "outputs": [],
   "source": [
    "# rk['card']\n",
    "# rk.imagenum"
   ]
  },
  {
   "cell_type": "markdown",
   "metadata": {},
   "source": [
    "### preview images"
   ]
  },
  {
   "cell_type": "code",
   "execution_count": null,
   "metadata": {},
   "outputs": [],
   "source": [
    "from skimage import data, io, filters\n",
    "from skimage.io import imshow, imread\n",
    "from pylab import *\n",
    "\n",
    "# for jupyter run\n",
    "%matplotlib inline"
   ]
  },
  {
   "cell_type": "code",
   "execution_count": null,
   "metadata": {},
   "outputs": [],
   "source": [
    "filename = rk[rk['imagenum']==100]['filepath'].item()\n",
    "filename"
   ]
  },
  {
   "cell_type": "code",
   "execution_count": null,
   "metadata": {},
   "outputs": [],
   "source": [
    "image = imread(filename)"
   ]
  },
  {
   "cell_type": "code",
   "execution_count": null,
   "metadata": {},
   "outputs": [],
   "source": [
    "imshow(image, cmap='gray')"
   ]
  },
  {
   "cell_type": "markdown",
   "metadata": {},
   "source": [
    "loop over images"
   ]
  },
  {
   "cell_type": "code",
   "execution_count": null,
   "metadata": {},
   "outputs": [],
   "source": [
    "# integer indexing\n",
    "# for i in range(cardimages.size):\n",
    "#     print(cardimages.iloc(0)[i])\n",
    "\n",
    "# pandas iteration\n",
    "# for item in cardimages.iteritems(): \n",
    "#     print(item)"
   ]
  },
  {
   "cell_type": "code",
   "execution_count": null,
   "metadata": {},
   "outputs": [],
   "source": [
    "def plot_card(cardnum):\n",
    "    \n",
    "    cardimages = rk[rk['cardnum']==cardnum]['filepath']\n",
    "    \n",
    "    fig = figure(figsize=(10, 10), dpi=150)\n",
    "    fig.suptitle('Card {0}'.format(cardnum), fontsize=10)\n",
    "    fig.tight_layout()\n",
    "    fig.subplots_adjust(top=0.95)\n",
    "\n",
    "    n, m = 8, 8\n",
    "    for i in range(0, min(n * m, cardimages.size)):\n",
    "        subplot(n, m, i+1)\n",
    "        filename = cardimages.iloc(0)[i]\n",
    "        image = imread(filename)\n",
    "        imshow(image, cmap='gray') \n",
    "        axis('off')"
   ]
  },
  {
   "cell_type": "code",
   "execution_count": null,
   "metadata": {},
   "outputs": [],
   "source": [
    "plot_card(45)"
   ]
  },
  {
   "cell_type": "code",
   "execution_count": null,
   "metadata": {},
   "outputs": [],
   "source": [
    "# for i in range(20, 30):\n",
    "#     plot_card(i)"
   ]
  },
  {
   "cell_type": "markdown",
   "metadata": {},
   "source": [
    "## Cleaning"
   ]
  },
  {
   "cell_type": "code",
   "execution_count": null,
   "metadata": {},
   "outputs": [],
   "source": [
    "# drop all intro cards"
   ]
  },
  {
   "cell_type": "code",
   "execution_count": null,
   "metadata": {},
   "outputs": [],
   "source": [
    "def plot_subset(rows):\n",
    "    \n",
    "    cardimages = rows['filepath']\n",
    "    \n",
    "    fig = figure(figsize=(10, 10), dpi=150)\n",
    "    fig.tight_layout()\n",
    "\n",
    "    n, m = 5, 5\n",
    "    for i in range(0, min(n * m, cardimages.size)):\n",
    "        subplot(n, m, i+1)\n",
    "        filename = cardimages.iloc(0)[i]\n",
    "        image = imread(filename)\n",
    "        imshow(image, cmap='gray') \n",
    "        axis('off')\n",
    "\n",
    "rows = rk[rk['cardnum']==45].iloc(0)[3:]\n",
    "plot_subset(rows)"
   ]
  },
  {
   "cell_type": "code",
   "execution_count": null,
   "metadata": {},
   "outputs": [],
   "source": [
    "covercards = []\n",
    "\n",
    "drawings = pd.DataFrame()\n",
    "\n",
    "for cardnum in np.sort(rk['cardnum'].unique()):\n",
    "    # print(cardnum)\n",
    "    cardrows = rk[rk['cardnum']==cardnum]\n",
    "    cardrows = cardrows.iloc(0)[3:]\n",
    "    drawings = drawingsonly.append(cardrows)\n",
    "#     print(cardrows)\n",
    "#     for "
   ]
  },
  {
   "cell_type": "code",
   "execution_count": null,
   "metadata": {},
   "outputs": [],
   "source": [
    "drawings.head()"
   ]
  },
  {
   "cell_type": "markdown",
   "metadata": {},
   "source": [
    "### image stats"
   ]
  },
  {
   "cell_type": "code",
   "execution_count": null,
   "metadata": {},
   "outputs": [],
   "source": [
    "def calc_image_stats(filename, show=False):\n",
    "    image = imread(filename)\n",
    "    if show:\n",
    "        imshow(image, cmap='gray')\n",
    "    shape = image.shape\n",
    "    mean = image.mean\n",
    "    return shape, mean"
   ]
  },
  {
   "cell_type": "code",
   "execution_count": null,
   "metadata": {},
   "outputs": [],
   "source": [
    "# filename = rk[rk['imagenum']==100]['filepath'].item()\n",
    "filename = rk[rk['cardnum']==45].iloc(0)[22]['filepath']\n",
    "\n",
    "shape, mean = calc_image_stats(filename, show=True)\n",
    "# shape, mean = calc_image_stats(filename)"
   ]
  },
  {
   "cell_type": "code",
   "execution_count": null,
   "metadata": {},
   "outputs": [],
   "source": [
    "# for item in drawings[drawings['cardnum']==45]['filename]'.iteritems():\n",
    "#     print(item)\n",
    "# drawings[drawings['cardnum']==45]"
   ]
  },
  {
   "cell_type": "markdown",
   "metadata": {},
   "source": [
    "## References\n",
    "- histogram equalization https://scikit-image.org/docs/dev/auto_examples/color_exposure/plot_equalize.html\n",
    "- gamma and log contrst https://scikit-image.org/docs/dev/auto_examples/color_exposure/plot_log_gamma.html"
   ]
  },
  {
   "cell_type": "code",
   "execution_count": null,
   "metadata": {},
   "outputs": [],
   "source": []
  }
 ],
 "metadata": {
  "kernelspec": {
   "display_name": "Python 3",
   "language": "python",
   "name": "python3"
  },
  "language_info": {
   "codemirror_mode": {
    "name": "ipython",
    "version": 3
   },
   "file_extension": ".py",
   "mimetype": "text/x-python",
   "name": "python",
   "nbconvert_exporter": "python",
   "pygments_lexer": "ipython3",
   "version": "3.7.3"
  }
 },
 "nbformat": 4,
 "nbformat_minor": 4
}

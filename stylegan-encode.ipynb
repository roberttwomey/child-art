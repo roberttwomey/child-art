{
 "cells": [
  {
   "cell_type": "markdown",
   "metadata": {},
   "source": [
    "## StyleGan Encoding for Children's Drawings\n",
    "\n",
    "- Using NVIDIA StyleGan: https://github.com/NVlabs/stylegan\n",
    "- Fine-tuning code: \n",
    "- Encoding code: https://github.com/Puzer/stylegan-encoder\n",
    "  - GOT https://github.com/iyaja/stylegan-encoder\n",
    "\n",
    "Assumes you have already done this setup and training [stylegan-finetune.ipynb](stylegan-finetune.ipynb)"
   ]
  },
  {
   "cell_type": "code",
   "execution_count": 1,
   "metadata": {},
   "outputs": [],
   "source": [
    "# !pip install ipywidgets"
   ]
  },
  {
   "cell_type": "code",
   "execution_count": 2,
   "metadata": {},
   "outputs": [],
   "source": [
    "# !jupyter nbextension enable --py widgetsnbextension"
   ]
  },
  {
   "cell_type": "code",
   "execution_count": 3,
   "metadata": {},
   "outputs": [],
   "source": [
    "# !jupyter labextension install @jupyter-widgets/jupyterlab-manager"
   ]
  },
  {
   "cell_type": "code",
   "execution_count": null,
   "metadata": {},
   "outputs": [],
   "source": []
  },
  {
   "cell_type": "code",
   "execution_count": 4,
   "metadata": {},
   "outputs": [],
   "source": [
    "# !jupyter labextension list"
   ]
  },
  {
   "cell_type": "markdown",
   "metadata": {},
   "source": [
    "## Encoding Setup"
   ]
  },
  {
   "cell_type": "code",
   "execution_count": 5,
   "metadata": {},
   "outputs": [],
   "source": [
    "# !git clone https://github.com/iyaja/stylegan-encoder"
   ]
  },
  {
   "cell_type": "markdown",
   "metadata": {},
   "source": [
    "Use Augmentor to pre-process input drawings to be square (512x512):"
   ]
  },
  {
   "cell_type": "code",
   "execution_count": 6,
   "metadata": {},
   "outputs": [
    {
     "name": "stdout",
     "output_type": "stream",
     "text": [
      "Requirement already satisfied: Augmentor in /opt/conda/lib/python3.7/site-packages (0.2.8)\n",
      "Requirement already satisfied: tqdm>=4.9.0 in /home/jovyan/.local/lib/python3.7/site-packages (from Augmentor) (4.32.1)\n",
      "Requirement already satisfied: numpy>=1.11.0 in /opt/conda/lib/python3.7/site-packages (from Augmentor) (1.17.1)\n",
      "Requirement already satisfied: future>=0.16.0 in /opt/conda/lib/python3.7/site-packages (from Augmentor) (0.18.2)\n",
      "Requirement already satisfied: Pillow>=5.2.0 in /opt/conda/lib/python3.7/site-packages (from Augmentor) (6.1.0)\n"
     ]
    }
   ],
   "source": [
    "!pip install Augmentor"
   ]
  },
  {
   "cell_type": "markdown",
   "metadata": {},
   "source": [
    "### Preprocess inputs\n",
    "\n",
    "Use Augmentor to pre-process input drawings to be square (512x512):"
   ]
  },
  {
   "cell_type": "code",
   "execution_count": 7,
   "metadata": {},
   "outputs": [
    {
     "data": {
      "text/plain": [
       "'/home/jovyan/child-art'"
      ]
     },
     "execution_count": 7,
     "metadata": {},
     "output_type": "execute_result"
    }
   ],
   "source": [
    "pwd"
   ]
  },
  {
   "cell_type": "code",
   "execution_count": 8,
   "metadata": {},
   "outputs": [],
   "source": [
    "import Augmentor"
   ]
  },
  {
   "cell_type": "code",
   "execution_count": 9,
   "metadata": {},
   "outputs": [],
   "source": [
    "def preprocess_inputs():\n",
    "    \n",
    "    source = \"/home/jovyan/child-art/data/to_encode\"\n",
    "    dest = \"/home/jovyan/child-art/data/square\"\n",
    "    \n",
    "    p = Augmentor.Pipeline(source, dest, save_format=\"JPEG\")\n",
    "    p.resize(probability=1.0, width=512, height=512)\n",
    "    p.process()"
   ]
  },
  {
   "cell_type": "code",
   "execution_count": 10,
   "metadata": {},
   "outputs": [],
   "source": [
    "# preprocess_inputs()"
   ]
  },
  {
   "cell_type": "code",
   "execution_count": null,
   "metadata": {},
   "outputs": [],
   "source": []
  },
  {
   "cell_type": "markdown",
   "metadata": {},
   "source": [
    "## Encoding into Latent Vector\n",
    "\n",
    "here is a reference https://github.com/iyaja/stylegan-encoder"
   ]
  },
  {
   "cell_type": "code",
   "execution_count": 11,
   "metadata": {},
   "outputs": [
    {
     "name": "stdout",
     "output_type": "stream",
     "text": [
      "/home/jovyan/child-art/stylegan-encoder\n"
     ]
    }
   ],
   "source": [
    "cd stylegan-encoder"
   ]
  },
  {
   "cell_type": "code",
   "execution_count": 12,
   "metadata": {},
   "outputs": [
    {
     "data": {
      "text/plain": [
       "'/home/jovyan/child-art/stylegan-encoder'"
      ]
     },
     "execution_count": 12,
     "metadata": {},
     "output_type": "execute_result"
    }
   ],
   "source": [
    "pwd"
   ]
  },
  {
   "cell_type": "markdown",
   "metadata": {},
   "source": [
    "the old way:"
   ]
  },
  {
   "cell_type": "code",
   "execution_count": 13,
   "metadata": {},
   "outputs": [],
   "source": [
    "# !python encode_images.py ../data/square/ generated_images/ latent_representations/"
   ]
  },
  {
   "cell_type": "markdown",
   "metadata": {},
   "source": [
    "do it inline here"
   ]
  },
  {
   "cell_type": "code",
   "execution_count": 14,
   "metadata": {},
   "outputs": [
    {
     "name": "stderr",
     "output_type": "stream",
     "text": [
      "/opt/conda/lib/python3.7/site-packages/tensorflow/python/framework/dtypes.py:516: FutureWarning: Passing (type, 1) or '1type' as a synonym of type is deprecated; in a future version of numpy, it will be understood as (type, (1,)) / '(1,)type'.\n",
      "  _np_qint8 = np.dtype([(\"qint8\", np.int8, 1)])\n",
      "/opt/conda/lib/python3.7/site-packages/tensorflow/python/framework/dtypes.py:517: FutureWarning: Passing (type, 1) or '1type' as a synonym of type is deprecated; in a future version of numpy, it will be understood as (type, (1,)) / '(1,)type'.\n",
      "  _np_quint8 = np.dtype([(\"quint8\", np.uint8, 1)])\n",
      "/opt/conda/lib/python3.7/site-packages/tensorflow/python/framework/dtypes.py:518: FutureWarning: Passing (type, 1) or '1type' as a synonym of type is deprecated; in a future version of numpy, it will be understood as (type, (1,)) / '(1,)type'.\n",
      "  _np_qint16 = np.dtype([(\"qint16\", np.int16, 1)])\n",
      "/opt/conda/lib/python3.7/site-packages/tensorflow/python/framework/dtypes.py:519: FutureWarning: Passing (type, 1) or '1type' as a synonym of type is deprecated; in a future version of numpy, it will be understood as (type, (1,)) / '(1,)type'.\n",
      "  _np_quint16 = np.dtype([(\"quint16\", np.uint16, 1)])\n",
      "/opt/conda/lib/python3.7/site-packages/tensorflow/python/framework/dtypes.py:520: FutureWarning: Passing (type, 1) or '1type' as a synonym of type is deprecated; in a future version of numpy, it will be understood as (type, (1,)) / '(1,)type'.\n",
      "  _np_qint32 = np.dtype([(\"qint32\", np.int32, 1)])\n",
      "/opt/conda/lib/python3.7/site-packages/tensorflow/python/framework/dtypes.py:525: FutureWarning: Passing (type, 1) or '1type' as a synonym of type is deprecated; in a future version of numpy, it will be understood as (type, (1,)) / '(1,)type'.\n",
      "  np_resource = np.dtype([(\"resource\", np.ubyte, 1)])\n"
     ]
    },
    {
     "name": "stdout",
     "output_type": "stream",
     "text": [
      "WARNING:tensorflow:From /home/jovyan/child-art/stylegan-encoder/dnnlib/tflib/tfutil.py:35: The name tf.Dimension is deprecated. Please use tf.compat.v1.Dimension instead.\n",
      "\n",
      "WARNING:tensorflow:From /home/jovyan/child-art/stylegan-encoder/dnnlib/tflib/tfutil.py:75: The name tf.variable_scope is deprecated. Please use tf.compat.v1.variable_scope instead.\n",
      "\n",
      "WARNING:tensorflow:From /home/jovyan/child-art/stylegan-encoder/dnnlib/tflib/tfutil.py:129: The name tf.Session is deprecated. Please use tf.compat.v1.Session instead.\n",
      "\n"
     ]
    },
    {
     "name": "stderr",
     "output_type": "stream",
     "text": [
      "/home/jovyan/.local/lib/python3.7/site-packages/tensorboard/compat/tensorflow_stub/dtypes.py:541: FutureWarning: Passing (type, 1) or '1type' as a synonym of type is deprecated; in a future version of numpy, it will be understood as (type, (1,)) / '(1,)type'.\n",
      "  _np_qint8 = np.dtype([(\"qint8\", np.int8, 1)])\n",
      "/home/jovyan/.local/lib/python3.7/site-packages/tensorboard/compat/tensorflow_stub/dtypes.py:542: FutureWarning: Passing (type, 1) or '1type' as a synonym of type is deprecated; in a future version of numpy, it will be understood as (type, (1,)) / '(1,)type'.\n",
      "  _np_quint8 = np.dtype([(\"quint8\", np.uint8, 1)])\n",
      "/home/jovyan/.local/lib/python3.7/site-packages/tensorboard/compat/tensorflow_stub/dtypes.py:543: FutureWarning: Passing (type, 1) or '1type' as a synonym of type is deprecated; in a future version of numpy, it will be understood as (type, (1,)) / '(1,)type'.\n",
      "  _np_qint16 = np.dtype([(\"qint16\", np.int16, 1)])\n",
      "/home/jovyan/.local/lib/python3.7/site-packages/tensorboard/compat/tensorflow_stub/dtypes.py:544: FutureWarning: Passing (type, 1) or '1type' as a synonym of type is deprecated; in a future version of numpy, it will be understood as (type, (1,)) / '(1,)type'.\n",
      "  _np_quint16 = np.dtype([(\"quint16\", np.uint16, 1)])\n",
      "/home/jovyan/.local/lib/python3.7/site-packages/tensorboard/compat/tensorflow_stub/dtypes.py:545: FutureWarning: Passing (type, 1) or '1type' as a synonym of type is deprecated; in a future version of numpy, it will be understood as (type, (1,)) / '(1,)type'.\n",
      "  _np_qint32 = np.dtype([(\"qint32\", np.int32, 1)])\n",
      "/home/jovyan/.local/lib/python3.7/site-packages/tensorboard/compat/tensorflow_stub/dtypes.py:550: FutureWarning: Passing (type, 1) or '1type' as a synonym of type is deprecated; in a future version of numpy, it will be understood as (type, (1,)) / '(1,)type'.\n",
      "  np_resource = np.dtype([(\"resource\", np.ubyte, 1)])\n",
      "Using TensorFlow backend.\n"
     ]
    }
   ],
   "source": [
    "import os\n",
    "import argparse\n",
    "import pickle\n",
    "from tqdm import tqdm_notebook as tqdm\n",
    "import PIL.Image\n",
    "import numpy as np\n",
    "import dnnlib\n",
    "import dnnlib.tflib as tflib\n",
    "import config\n",
    "from encoder.generator_model import Generator\n",
    "from encoder.perceptual_model import PerceptualModel"
   ]
  },
  {
   "cell_type": "code",
   "execution_count": 15,
   "metadata": {},
   "outputs": [],
   "source": [
    "def split_to_batches(l, n):\n",
    "    for i in range(0, len(l), n):\n",
    "        yield l[i:i + n]"
   ]
  },
  {
   "cell_type": "code",
   "execution_count": 16,
   "metadata": {},
   "outputs": [],
   "source": [
    "# paths\n",
    "src_dir = \"../data/square/\"\n",
    "generated_images_dir = \"../data/generated_images/\"\n",
    "dlatent_dir = \"../data/latent_representations/\"\n",
    "\n",
    "# training params\n",
    "batch_size = 1\n",
    "\n",
    "# perceptual model params\n",
    "image_size = 256\n",
    "# image_size = 512\n",
    "lr = 1.0\n",
    "# lr = 4.0\n",
    "# iterations = 500\n",
    "# iterations = 1000\n",
    "# iterations = 5000\n",
    "# iterations = 8000\n",
    "iterations = 10000\n",
    "# iterations = 20000\n",
    "\n",
    "# generator params\n",
    "randomize_noise = False#True"
   ]
  },
  {
   "cell_type": "code",
   "execution_count": 17,
   "metadata": {},
   "outputs": [],
   "source": [
    "ref_images = [os.path.join(src_dir, x) for x in os.listdir(src_dir)]\n",
    "ref_images = list(filter(os.path.isfile, ref_images))\n",
    "\n",
    "if len(ref_images) == 0:\n",
    "    raise Exception('%s is empty' % src_dir)\n",
    "\n",
    "os.makedirs(generated_images_dir, exist_ok=True)\n",
    "os.makedirs(dlatent_dir, exist_ok=True)"
   ]
  },
  {
   "cell_type": "code",
   "execution_count": 18,
   "metadata": {},
   "outputs": [
    {
     "name": "stdout",
     "output_type": "stream",
     "text": [
      "WARNING:tensorflow:From /home/jovyan/child-art/stylegan-encoder/dnnlib/tflib/tfutil.py:98: The name tf.get_default_session is deprecated. Please use tf.compat.v1.get_default_session instead.\n",
      "\n",
      "WARNING:tensorflow:From /home/jovyan/child-art/stylegan-encoder/dnnlib/tflib/tfutil.py:110: The name tf.set_random_seed is deprecated. Please use tf.compat.v1.set_random_seed instead.\n",
      "\n",
      "WARNING:tensorflow:From <string>:373: add_dispatch_support.<locals>.wrapper (from tensorflow.python.ops.array_ops) is deprecated and will be removed in a future version.\n",
      "Instructions for updating:\n",
      "Use tf.where in 2.0, which has the same broadcast rule as np.where\n",
      "WARNING:tensorflow:From /opt/conda/lib/python3.7/site-packages/keras/backend/tensorflow_backend.py:4267: The name tf.nn.max_pool is deprecated. Please use tf.nn.max_pool2d instead.\n",
      "\n",
      "WARNING:tensorflow:From /home/jovyan/child-art/stylegan-encoder/encoder/perceptual_model.py:47: The name tf.image.resize_images is deprecated. Please use tf.image.resize instead.\n",
      "\n",
      "WARNING:tensorflow:From /home/jovyan/child-art/stylegan-encoder/encoder/perceptual_model.py:58: The name tf.losses.mean_squared_error is deprecated. Please use tf.compat.v1.losses.mean_squared_error instead.\n",
      "\n"
     ]
    }
   ],
   "source": [
    "# URL_FFHQ = 'https://drive.google.com/uc?id=1MEGjdvVpUsu1jB4zrXZN7Y4kBBOzizDQ' # karras2019stylegan-ffhq-1024x1024.pkl\n",
    "# URL_FFHQ = 'https://s3-us-west-2.amazonaws.com/nanonets/blogs/karras2019stylegan-ffhq-1024x1024.pkl'\n",
    "\n",
    "\n",
    "# Initialize generator and perceptual model\n",
    "tflib.init_tf()\n",
    "\n",
    "# Flicker HQ not what I want\n",
    "# with dnnlib.util.open_url(URL_FFHQ, cache_dir=config.cache_dir) as f:\n",
    "#     generator_network, discriminator_network, Gs_network = pickle.load(f)\n",
    "\n",
    "# Use my finetuned children's drawings stylegan\n",
    "model = \"../stylegan/results/00021-sgan-custom-2gpu/network-snapshot-011545.pkl\"\n",
    "with open(model, 'rb') as f:\n",
    "#     _G, _D, Gs = pickle.load(f)\n",
    "    _G, _D, Gs_network = pickle.load(f)\n",
    "\n",
    "vgg_layer = 8\n",
    "# vgg_layer = 9\n",
    "\n",
    "    \n",
    "generator = Generator(Gs_network, batch_size, randomize_noise=randomize_noise)\n",
    "perceptual_model = PerceptualModel(image_size, layer=vgg_layer, batch_size=batch_size)\n",
    "perceptual_model.build_perceptual_model(generator.generated_image)"
   ]
  },
  {
   "cell_type": "code",
   "execution_count": 19,
   "metadata": {},
   "outputs": [
    {
     "data": {
      "application/vnd.jupyter.widget-view+json": {
       "model_id": "f0e160b618274206a1eb9041f137b252",
       "version_major": 2,
       "version_minor": 0
      },
      "text/plain": [
       "HBox(children=(IntProgress(value=0, max=2), HTML(value='')))"
      ]
     },
     "metadata": {},
     "output_type": "display_data"
    },
    {
     "data": {
      "application/vnd.jupyter.widget-view+json": {
       "model_id": "4bb49f7f8b654539874872a41c529ba4",
       "version_major": 2,
       "version_minor": 0
      },
      "text/plain": [
       "HBox(children=(IntProgress(value=0, max=10000), HTML(value='')))"
      ]
     },
     "metadata": {},
     "output_type": "display_data"
    },
    {
     "name": "stdout",
     "output_type": "stream",
     "text": [
      "WARNING:tensorflow:From /home/jovyan/child-art/stylegan-encoder/encoder/perceptual_model.py:85: The name tf.train.GradientDescentOptimizer is deprecated. Please use tf.compat.v1.train.GradientDescentOptimizer instead.\n",
      "\n",
      "to_encode_original_jasper_marker_bw.jpg_7051fc42-627a-4bca-ba0f-b4e495ddd17f  loss: 2.1590502\n"
     ]
    },
    {
     "data": {
      "application/vnd.jupyter.widget-view+json": {
       "model_id": "a41cfb47f78c47278f5f8bfb542b9604",
       "version_major": 2,
       "version_minor": 0
      },
      "text/plain": [
       "HBox(children=(IntProgress(value=0, max=10000), HTML(value='')))"
      ]
     },
     "metadata": {},
     "output_type": "display_data"
    },
    {
     "name": "stdout",
     "output_type": "stream",
     "text": [
      "to_encode_original_jasper_giraffe_dragon_food_bw.jpg_8a49d328-7030-4320-806a-10b54cbdfdbe  loss: 0.6276486\n",
      "\n"
     ]
    }
   ],
   "source": [
    "# %%capture\n",
    "\n",
    "# Optimize (only) dlatents by minimizing perceptual loss between reference and generated images in feature space\n",
    "for images_batch in tqdm(split_to_batches(ref_images, batch_size), total=len(ref_images)//batch_size):\n",
    "    names = [os.path.splitext(os.path.basename(x))[0] for x in images_batch]\n",
    "\n",
    "    perceptual_model.set_reference_images(images_batch)\n",
    "    op = perceptual_model.optimize(generator.dlatent_variable, iterations=iterations, learning_rate=lr)\n",
    "\n",
    "    pbar = tqdm(op, leave=False, total=iterations)\n",
    "    for loss in pbar:\n",
    "        pbar.set_description(' '.join(names)+' Loss: %.2f' % loss)\n",
    "    print(' '.join(names), ' loss:', loss)\n",
    "\n",
    "    # Generate images from found dlatents and save them\n",
    "    generated_images = generator.generate_images()\n",
    "    generated_dlatents = generator.get_dlatents()\n",
    "    for img_array, dlatent, img_name in zip(generated_images, generated_dlatents, names):\n",
    "        img = PIL.Image.fromarray(img_array, 'RGB')\n",
    "        img.save(os.path.join(generated_images_dir, f'{img_name}_{lr}_{iterations}.png'), 'PNG')\n",
    "        np.save(os.path.join(generated_images_dir, f'{img_name}_{lr}_{iterations}.npy'), dlatent)\n",
    "        np.savetxt(os.path.join(generated_images_dir, f'{img_name}_{lr}_{iterations}.txt'), dlatent, delimiter=',')\n",
    "#         print(dlatent.shape, dlatent)\n",
    "\n",
    "    generator.reset_dlatents()"
   ]
  }
 ],
 "metadata": {
  "kernelspec": {
   "display_name": "Python 3",
   "language": "python",
   "name": "python3"
  },
  "language_info": {
   "codemirror_mode": {
    "name": "ipython",
    "version": 3
   },
   "file_extension": ".py",
   "mimetype": "text/x-python",
   "name": "python",
   "nbconvert_exporter": "python",
   "pygments_lexer": "ipython3",
   "version": "3.7.3"
  }
 },
 "nbformat": 4,
 "nbformat_minor": 4
}
